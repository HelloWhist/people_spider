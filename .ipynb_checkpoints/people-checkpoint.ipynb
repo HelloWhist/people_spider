{
 "cells": [
  {
   "cell_type": "code",
   "execution_count": 1,
   "metadata": {},
   "outputs": [],
   "source": [
    "import requests\n",
    "from bs4 import BeautifulSoup as bs\n",
    "\n",
    "with open(\"chen.txt\") as f1:\n",
    "    lines = f1.readlines()\n",
    "    for line in lines:\n",
    "        url = line\n",
    "        r = requests.get(url)\n",
    "        r.encoding = 'GB2312'\n",
    "        soup = bs(r.text,'lxml')\n",
    "\n",
    "        title = soup.select('.text_title > h1')[0].string\n",
    "\n",
    "        author = soup.select('.text_title > p')[0].string.replace('\\xa0','')\n",
    "\n",
    "        time = soup.select('.text_title > div > div.fl')[0].text.split('\\xa0\\xa0')[0]\n",
    "        source = soup.select('.text_title > div > div.fl')[0].text.split('\\xa0\\xa0')[1]\n",
    "\n",
    "        paras = soup.select('.text_con > div.fl.text_con_left')[0].find_all('p')\n",
    "\n",
    "        paper_num = soup.select('#paper_num')[0].string.strip()\n",
    "\n",
    "        editor = soup.select('#rwb_zw > .edit')[0].string\n",
    "\n",
    "        file_name = \"%s.txt\" % title\n",
    "        with open(file_name,\"w+\",encoding='utf-8') as f:\n",
    "            f.write(title + '\\n')\n",
    "            f.write(author + '\\n')\n",
    "            f.write(time + ' ' + source + '\\n\\n')\n",
    "            for para in paras:\n",
    "                if len(para) > 0 and para.string != None:\n",
    "                    f.writelines(para.string.strip() + '\\n')\n",
    "            f.write(paper_num + '\\n')\n",
    "            f.write(editor)"
   ]
  }
 ],
 "metadata": {
  "kernelspec": {
   "display_name": "Python 3",
   "language": "python",
   "name": "python3"
  },
  "language_info": {
   "codemirror_mode": {
    "name": "ipython",
    "version": 3
   },
   "file_extension": ".py",
   "mimetype": "text/x-python",
   "name": "python",
   "nbconvert_exporter": "python",
   "pygments_lexer": "ipython3",
   "version": "3.6.4"
  }
 },
 "nbformat": 4,
 "nbformat_minor": 2
}
